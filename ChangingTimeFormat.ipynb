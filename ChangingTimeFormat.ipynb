{
 "cells": [
  {
   "cell_type": "markdown",
   "metadata": {
    "colab_type": "text",
    "id": "u73ZaPL59060"
   },
   "source": [
    "# How to change different date and time formats to the standard datetime format\n"
   ]
  },
  {
   "cell_type": "markdown",
   "metadata": {
    "colab_type": "text",
    "id": "tFIo_xpu_nQD"
   },
   "source": [
    "**Content:**\n",
    "  * dd/mm/yyyy format to datetime\n",
    "  * HH/MM format to datetime\n",
    "  * Using a for loop\n",
    "  * Dropping columns"
   ]
  },
  {
   "cell_type": "markdown",
   "metadata": {
    "colab_type": "text",
    "id": "9iJwGjJ6BGWP"
   },
   "source": [
    "The following line imports the *pandas* and *datetime* API:"
   ]
  },
  {
   "cell_type": "code",
   "execution_count": 1,
   "metadata": {
    "colab": {
     "autoexec": {
      "startup": false,
      "wait_interval": 0
     }
    },
    "colab_type": "code",
    "id": "xh3M6ZtWzKAK"
   },
   "outputs": [],
   "source": [
    "#libraries\n",
    "import pandas as pd\n",
    "from datetime import datetime"
   ]
  },
  {
   "cell_type": "markdown",
   "metadata": {
    "colab_type": "text",
    "id": "o1HK1C1lzWHu"
   },
   "source": [
    "## Creating a dataframe manually"
   ]
  },
  {
   "cell_type": "code",
   "execution_count": 2,
   "metadata": {
    "colab": {
     "autoexec": {
      "startup": false,
      "wait_interval": 0
     },
     "base_uri": "https://localhost:8080/",
     "height": 138
    },
    "colab_type": "code",
    "executionInfo": {
     "elapsed": 515,
     "status": "ok",
     "timestamp": 1523372302346,
     "user": {
      "displayName": "Paul Stobbe",
      "photoUrl": "//lh4.googleusercontent.com/-5SioqR6fA50/AAAAAAAAAAI/AAAAAAAAAAc/OJJDKtRGipI/s50-c-k-no/photo.jpg",
      "userId": "117878952488591642231"
     },
     "user_tz": -120
    },
    "id": "82F8wW19zvJ6",
    "outputId": "72fe8778-270b-4b8d-c27c-704c985c11e3"
   },
   "outputs": [
    {
     "data": {
      "text/html": [
       "<div>\n",
       "<style scoped>\n",
       "    .dataframe tbody tr th:only-of-type {\n",
       "        vertical-align: middle;\n",
       "    }\n",
       "\n",
       "    .dataframe tbody tr th {\n",
       "        vertical-align: top;\n",
       "    }\n",
       "\n",
       "    .dataframe thead th {\n",
       "        text-align: right;\n",
       "    }\n",
       "</style>\n",
       "<table border=\"1\" class=\"dataframe\">\n",
       "  <thead>\n",
       "    <tr style=\"text-align: right;\">\n",
       "      <th></th>\n",
       "      <th>Date</th>\n",
       "      <th>Time</th>\n",
       "      <th>Deers</th>\n",
       "    </tr>\n",
       "  </thead>\n",
       "  <tbody>\n",
       "    <tr>\n",
       "      <th>0</th>\n",
       "      <td>10/8/2017</td>\n",
       "      <td>02:32</td>\n",
       "      <td>14</td>\n",
       "    </tr>\n",
       "    <tr>\n",
       "      <th>1</th>\n",
       "      <td>11/08/2017</td>\n",
       "      <td>11:41</td>\n",
       "      <td>22</td>\n",
       "    </tr>\n",
       "    <tr>\n",
       "      <th>2</th>\n",
       "      <td>12/08/2017</td>\n",
       "      <td>09:03</td>\n",
       "      <td>17</td>\n",
       "    </tr>\n",
       "  </tbody>\n",
       "</table>\n",
       "</div>"
      ],
      "text/plain": [
       "         Date   Time Deers\n",
       "0   10/8/2017  02:32    14\n",
       "1  11/08/2017  11:41    22\n",
       "2  12/08/2017  09:03    17"
      ]
     },
     "execution_count": 2,
     "metadata": {},
     "output_type": "execute_result"
    }
   ],
   "source": [
    "d = {'Date': ['10/8/2017', '11/08/2017', '12/08/2017'], 'Time': ['02:32', '11:41', '09:03'], 'Deers': ['14', '22', '17']}\n",
    "df = pd.DataFrame(data=d)\n",
    "df = df[['Date', 'Time', 'Deers']]\n",
    "df"
   ]
  },
  {
   "cell_type": "markdown",
   "metadata": {
    "colab_type": "text",
    "id": "vAoBm8wOzbyi"
   },
   "source": [
    "## Combining the date and time column to one datetime column"
   ]
  },
  {
   "cell_type": "code",
   "execution_count": 3,
   "metadata": {
    "colab": {
     "autoexec": {
      "startup": false,
      "wait_interval": 0
     }
    },
    "colab_type": "code",
    "id": "uRcqQFqYzY6Q"
   },
   "outputs": [],
   "source": [
    "df['DateTime'] = 0\n",
    "\n",
    "for i,row in df.iterrows():\n",
    "  Date = df.loc[i,'Date']\n",
    "  Time = df.loc[i,'Time']\n",
    "  DateTime = Date + '-' + Time\n",
    "  df.loc[i,'DateTime']  = datetime.strptime(DateTime, \"%m/%d/%Y-%H:%M\")"
   ]
  },
  {
   "cell_type": "markdown",
   "metadata": {
    "colab_type": "text",
    "id": "BuJ25IZ_EpHE"
   },
   "source": [
    "## Drop the old columns and print the new dataframe"
   ]
  },
  {
   "cell_type": "code",
   "execution_count": null,
   "metadata": {
    "colab": {
     "autoexec": {
      "startup": false,
      "wait_interval": 0
     },
     "base_uri": "https://localhost:8080/",
     "height": 138
    },
    "colab_type": "code",
    "executionInfo": {
     "elapsed": 537,
     "status": "ok",
     "timestamp": 1523372423385,
     "user": {
      "displayName": "Paul Stobbe",
      "photoUrl": "//lh4.googleusercontent.com/-5SioqR6fA50/AAAAAAAAAAI/AAAAAAAAAAc/OJJDKtRGipI/s50-c-k-no/photo.jpg",
      "userId": "117878952488591642231"
     },
     "user_tz": -120
    },
    "id": "6VyCAn0GziX6",
    "outputId": "089d6a36-8165-4e04-e163-98c25a6fffc3"
   },
   "outputs": [
    {
     "data": {
      "text/html": [
       "<div>\n",
       "<style scoped>\n",
       "    .dataframe tbody tr th:only-of-type {\n",
       "        vertical-align: middle;\n",
       "    }\n",
       "\n",
       "    .dataframe tbody tr th {\n",
       "        vertical-align: top;\n",
       "    }\n",
       "\n",
       "    .dataframe thead th {\n",
       "        text-align: right;\n",
       "    }\n",
       "</style>\n",
       "<table border=\"1\" class=\"dataframe\">\n",
       "  <thead>\n",
       "    <tr style=\"text-align: right;\">\n",
       "      <th></th>\n",
       "      <th>DateTime</th>\n",
       "      <th>Deers</th>\n",
       "    </tr>\n",
       "  </thead>\n",
       "  <tbody>\n",
       "    <tr>\n",
       "      <th>0</th>\n",
       "      <td>2017-10-08 02:32:00</td>\n",
       "      <td>14</td>\n",
       "    </tr>\n",
       "    <tr>\n",
       "      <th>1</th>\n",
       "      <td>2017-11-08 11:41:00</td>\n",
       "      <td>22</td>\n",
       "    </tr>\n",
       "    <tr>\n",
       "      <th>2</th>\n",
       "      <td>2017-12-08 09:03:00</td>\n",
       "      <td>17</td>\n",
       "    </tr>\n",
       "  </tbody>\n",
       "</table>\n",
       "</div>"
      ],
      "text/plain": [
       "              DateTime Deers\n",
       "0  2017-10-08 02:32:00    14\n",
       "1  2017-11-08 11:41:00    22\n",
       "2  2017-12-08 09:03:00    17"
      ]
     },
     "execution_count": 106,
     "metadata": {
      "tags": []
     },
     "output_type": "execute_result"
    }
   ],
   "source": [
    "df = df.drop(df.columns[[0, 1]], axis=1)\n",
    "df = df[['DateTime', 'Deers']]\n",
    "df"
   ]
  }
 ],
 "metadata": {
  "colab": {
   "default_view": {},
   "name": "ChangingTimeFormat.ipynb",
   "provenance": [],
   "version": "0.3.2",
   "views": {}
  },
  "kernelspec": {
   "display_name": "Python 3",
   "language": "python",
   "name": "python3"
  },
  "language_info": {
   "codemirror_mode": {
    "name": "ipython",
    "version": 3
   },
   "file_extension": ".py",
   "mimetype": "text/x-python",
   "name": "python",
   "nbconvert_exporter": "python",
   "pygments_lexer": "ipython3",
   "version": "3.6.7"
  }
 },
 "nbformat": 4,
 "nbformat_minor": 2
}
