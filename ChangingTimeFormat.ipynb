{
  "nbformat": 4,
  "nbformat_minor": 0,
  "metadata": {
    "colab": {
      "name": "ChangingTimeFormat.ipynb",
      "version": "0.3.2",
      "views": {},
      "default_view": {},
      "provenance": []
    }
  },
  "cells": [
    {
      "metadata": {
        "id": "u73ZaPL59060",
        "colab_type": "text"
      },
      "cell_type": "markdown",
      "source": [
        "# How to change different date and time formats to the standard datetime format\n"
      ]
    },
    {
      "metadata": {
        "id": "tFIo_xpu_nQD",
        "colab_type": "text"
      },
      "cell_type": "markdown",
      "source": [
        "**Content:**\n",
        "  * dd/mm/yyyy format to datetime\n",
        "  * HH/MM format to datetime\n",
        "  * Using a for loop\n",
        "  * Dropping columns"
      ]
    },
    {
      "metadata": {
        "id": "9iJwGjJ6BGWP",
        "colab_type": "text"
      },
      "cell_type": "markdown",
      "source": [
        "The following line imports the *pandas* and *datetime* API:"
      ]
    },
    {
      "metadata": {
        "id": "xh3M6ZtWzKAK",
        "colab_type": "code",
        "colab": {
          "autoexec": {
            "startup": false,
            "wait_interval": 0
          }
        }
      },
      "cell_type": "code",
      "source": [
        "import pandas as pd\n",
        "from datetime import datetime"
      ],
      "execution_count": 0,
      "outputs": []
    },
    {
      "metadata": {
        "id": "o1HK1C1lzWHu",
        "colab_type": "text"
      },
      "cell_type": "markdown",
      "source": [
        "## Creating a dataframe manually"
      ]
    },
    {
      "metadata": {
        "id": "82F8wW19zvJ6",
        "colab_type": "code",
        "colab": {
          "autoexec": {
            "startup": false,
            "wait_interval": 0
          },
          "base_uri": "https://localhost:8080/",
          "height": 138
        },
        "outputId": "72fe8778-270b-4b8d-c27c-704c985c11e3",
        "executionInfo": {
          "status": "ok",
          "timestamp": 1523372302346,
          "user_tz": -120,
          "elapsed": 515,
          "user": {
            "displayName": "Paul Stobbe",
            "photoUrl": "//lh4.googleusercontent.com/-5SioqR6fA50/AAAAAAAAAAI/AAAAAAAAAAc/OJJDKtRGipI/s50-c-k-no/photo.jpg",
            "userId": "117878952488591642231"
          }
        }
      },
      "cell_type": "code",
      "source": [
        "d = {'Date': ['10/8/2017', '11/08/2017', '12/08/2017'], 'Time': ['02:32', '11:41', '09:03'], 'Deers': ['14', '22', '17']}\n",
        "df = pd.DataFrame(data=d)\n",
        "df = df[['Date', 'Time', 'Deers']]\n",
        "df"
      ],
      "execution_count": 0,
      "outputs": [
        {
          "output_type": "execute_result",
          "data": {
            "text/html": [
              "<div>\n",
              "<style scoped>\n",
              "    .dataframe tbody tr th:only-of-type {\n",
              "        vertical-align: middle;\n",
              "    }\n",
              "\n",
              "    .dataframe tbody tr th {\n",
              "        vertical-align: top;\n",
              "    }\n",
              "\n",
              "    .dataframe thead th {\n",
              "        text-align: right;\n",
              "    }\n",
              "</style>\n",
              "<table border=\"1\" class=\"dataframe\">\n",
              "  <thead>\n",
              "    <tr style=\"text-align: right;\">\n",
              "      <th></th>\n",
              "      <th>Date</th>\n",
              "      <th>Time</th>\n",
              "      <th>Deers</th>\n",
              "    </tr>\n",
              "  </thead>\n",
              "  <tbody>\n",
              "    <tr>\n",
              "      <th>0</th>\n",
              "      <td>10/8/2017</td>\n",
              "      <td>02:32</td>\n",
              "      <td>14</td>\n",
              "    </tr>\n",
              "    <tr>\n",
              "      <th>1</th>\n",
              "      <td>11/08/2017</td>\n",
              "      <td>11:41</td>\n",
              "      <td>22</td>\n",
              "    </tr>\n",
              "    <tr>\n",
              "      <th>2</th>\n",
              "      <td>12/08/2017</td>\n",
              "      <td>09:03</td>\n",
              "      <td>17</td>\n",
              "    </tr>\n",
              "  </tbody>\n",
              "</table>\n",
              "</div>"
            ],
            "text/plain": [
              "         Date   Time Deers\n",
              "0   10/8/2017  02:32    14\n",
              "1  11/08/2017  11:41    22\n",
              "2  12/08/2017  09:03    17"
            ]
          },
          "metadata": {
            "tags": []
          },
          "execution_count": 102
        }
      ]
    },
    {
      "metadata": {
        "id": "vAoBm8wOzbyi",
        "colab_type": "text"
      },
      "cell_type": "markdown",
      "source": [
        "## Combining date and time column to one datetime column"
      ]
    },
    {
      "metadata": {
        "id": "uRcqQFqYzY6Q",
        "colab_type": "code",
        "colab": {
          "autoexec": {
            "startup": false,
            "wait_interval": 0
          }
        }
      },
      "cell_type": "code",
      "source": [
        "df['DateTime'] = 0\n",
        "\n",
        "for i,row in df.iterrows():\n",
        "  Date = df.loc[i,'Date']\n",
        "  Time = df.loc[i,'Time']\n",
        "  DateTime = Date + '-' + Time\n",
        "  df.loc[i,'DateTime']  = datetime.strptime(DateTime, \"%m/%d/%Y-%H:%M\")"
      ],
      "execution_count": 0,
      "outputs": []
    },
    {
      "metadata": {
        "id": "BuJ25IZ_EpHE",
        "colab_type": "text"
      },
      "cell_type": "markdown",
      "source": [
        "## Drop the old columns and print the new dataframe"
      ]
    },
    {
      "metadata": {
        "id": "6VyCAn0GziX6",
        "colab_type": "code",
        "colab": {
          "autoexec": {
            "startup": false,
            "wait_interval": 0
          },
          "base_uri": "https://localhost:8080/",
          "height": 138
        },
        "outputId": "089d6a36-8165-4e04-e163-98c25a6fffc3",
        "executionInfo": {
          "status": "ok",
          "timestamp": 1523372423385,
          "user_tz": -120,
          "elapsed": 537,
          "user": {
            "displayName": "Paul Stobbe",
            "photoUrl": "//lh4.googleusercontent.com/-5SioqR6fA50/AAAAAAAAAAI/AAAAAAAAAAc/OJJDKtRGipI/s50-c-k-no/photo.jpg",
            "userId": "117878952488591642231"
          }
        }
      },
      "cell_type": "code",
      "source": [
        "df = df.drop(df.columns[[0, 1]], axis=1)\n",
        "df = df[['DateTime', 'Deers']]\n",
        "df"
      ],
      "execution_count": 0,
      "outputs": [
        {
          "output_type": "execute_result",
          "data": {
            "text/html": [
              "<div>\n",
              "<style scoped>\n",
              "    .dataframe tbody tr th:only-of-type {\n",
              "        vertical-align: middle;\n",
              "    }\n",
              "\n",
              "    .dataframe tbody tr th {\n",
              "        vertical-align: top;\n",
              "    }\n",
              "\n",
              "    .dataframe thead th {\n",
              "        text-align: right;\n",
              "    }\n",
              "</style>\n",
              "<table border=\"1\" class=\"dataframe\">\n",
              "  <thead>\n",
              "    <tr style=\"text-align: right;\">\n",
              "      <th></th>\n",
              "      <th>DateTime</th>\n",
              "      <th>Deers</th>\n",
              "    </tr>\n",
              "  </thead>\n",
              "  <tbody>\n",
              "    <tr>\n",
              "      <th>0</th>\n",
              "      <td>2017-10-08 02:32:00</td>\n",
              "      <td>14</td>\n",
              "    </tr>\n",
              "    <tr>\n",
              "      <th>1</th>\n",
              "      <td>2017-11-08 11:41:00</td>\n",
              "      <td>22</td>\n",
              "    </tr>\n",
              "    <tr>\n",
              "      <th>2</th>\n",
              "      <td>2017-12-08 09:03:00</td>\n",
              "      <td>17</td>\n",
              "    </tr>\n",
              "  </tbody>\n",
              "</table>\n",
              "</div>"
            ],
            "text/plain": [
              "              DateTime Deers\n",
              "0  2017-10-08 02:32:00    14\n",
              "1  2017-11-08 11:41:00    22\n",
              "2  2017-12-08 09:03:00    17"
            ]
          },
          "metadata": {
            "tags": []
          },
          "execution_count": 106
        }
      ]
    }
  ]
}