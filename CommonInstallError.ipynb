{
  "nbformat": 4,
  "nbformat_minor": 0,
  "metadata": {
    "colab": {
      "name": "CommonInstallError.ipynb",
      "version": "0.3.2",
      "views": {},
      "default_view": {},
      "provenance": []
    }
  },
  "cells": [
    {
      "metadata": {
        "id": "u73ZaPL59060",
        "colab_type": "text"
      },
      "cell_type": "markdown",
      "source": [
        "# Common error code \"python setup.py egg_info\" "
      ]
    },
    {
      "metadata": {
        "id": "tFIo_xpu_nQD",
        "colab_type": "text"
      },
      "cell_type": "markdown",
      "source": [
        "**Content:**\n",
        "  * Install commands\n",
        "  * Python setup.py egg_info error"
      ]
    },
    {
      "metadata": {
        "id": "o1HK1C1lzWHu",
        "colab_type": "text"
      },
      "cell_type": "markdown",
      "source": [
        "## Error for install command: tslearn package"
      ]
    },
    {
      "metadata": {
        "id": "82F8wW19zvJ6",
        "colab_type": "code",
        "colab": {
          "autoexec": {
            "startup": false,
            "wait_interval": 0
          },
          "base_uri": "https://localhost:8080/",
          "height": 241
        },
        "outputId": "010da9c1-9a71-4570-bb0e-f52863840bac",
        "executionInfo": {
          "status": "ok",
          "timestamp": 1524003124897,
          "user_tz": -120,
          "elapsed": 4265,
          "user": {
            "displayName": "Paul Stobbe",
            "photoUrl": "https://lh3.googleusercontent.com/a/default-user=s128",
            "userId": "102954526529635010281"
          }
        }
      },
      "cell_type": "code",
      "source": [
        "!pip install tslearn"
      ],
      "execution_count": 1,
      "outputs": [
        {
          "output_type": "stream",
          "text": [
            "Collecting tslearn\n",
            "  Downloading https://files.pythonhosted.org/packages/c7/23/f4c7fed8d159551e4eb471da6d413f3d11c15ecc4bea1a6a5086eeb94e3f/tslearn-0.1.10.8.tar.gz (550kB)\n",
            "\u001b[K    100% |████████████████████████████████| 552kB 1.4MB/s \n",
            "\u001b[?25h    Complete output from command python setup.py egg_info:\n",
            "    Traceback (most recent call last):\n",
            "      File \"<string>\", line 1, in <module>\n",
            "      File \"/tmp/pip-build-4C2Dua/tslearn/setup.py\", line 5, in <module>\n",
            "        from Cython.Distutils import build_ext as _build_ext\n",
            "    ImportError: No module named Cython.Distutils\n",
            "    \n",
            "    ----------------------------------------\n",
            "\u001b[31mCommand \"python setup.py egg_info\" failed with error code 1 in /tmp/pip-build-4C2Dua/tslearn/\u001b[0m\n"
          ],
          "name": "stdout"
        }
      ]
    },
    {
      "metadata": {
        "id": "vAoBm8wOzbyi",
        "colab_type": "text"
      },
      "cell_type": "markdown",
      "source": [
        "## Install Pystan"
      ]
    },
    {
      "metadata": {
        "id": "uRcqQFqYzY6Q",
        "colab_type": "code",
        "colab": {
          "autoexec": {
            "startup": false,
            "wait_interval": 0
          },
          "base_uri": "https://localhost:8080/",
          "height": 190
        },
        "outputId": "f234b6d3-478d-4830-e6c7-b85c8cd4cbf9",
        "executionInfo": {
          "status": "ok",
          "timestamp": 1524003216139,
          "user_tz": -120,
          "elapsed": 34398,
          "user": {
            "displayName": "Paul Stobbe",
            "photoUrl": "https://lh3.googleusercontent.com/a/default-user=s128",
            "userId": "102954526529635010281"
          }
        }
      },
      "cell_type": "code",
      "source": [
        "!pip install pystan"
      ],
      "execution_count": 2,
      "outputs": [
        {
          "output_type": "stream",
          "text": [
            "Collecting pystan\n",
            "  Downloading https://files.pythonhosted.org/packages/9f/13/0bb28e764406b3f184eff37bbdb6d3749a48fdf70634df0db1ef8dee7664/pystan-2.17.1.0-cp27-cp27mu-manylinux1_x86_64.whl (68.1MB)\n",
            "\u001b[K    100% |████████████████████████████████| 68.1MB 16kB/s \n",
            "\u001b[?25hRequirement already satisfied: numpy>=1.7 in /usr/local/lib/python2.7/dist-packages (from pystan)\n",
            "Collecting Cython!=0.25.1,>=0.22 (from pystan)\n",
            "  Downloading https://files.pythonhosted.org/packages/fe/d6/a097bd9913cc0fc974b968f5586d3f0609f46ca58b2aae3b8dfd51c1fe18/Cython-0.28.2-cp27-cp27mu-manylinux1_x86_64.whl (3.3MB)\n",
            "\u001b[K    100% |████████████████████████████████| 3.3MB 328kB/s \n",
            "\u001b[?25hInstalling collected packages: Cython, pystan\n",
            "Successfully installed Cython-0.28.2 pystan-2.17.1.0\n"
          ],
          "name": "stdout"
        }
      ]
    },
    {
      "metadata": {
        "id": "BuJ25IZ_EpHE",
        "colab_type": "text"
      },
      "cell_type": "markdown",
      "source": [
        "## Successful install: tslearn package"
      ]
    },
    {
      "metadata": {
        "id": "6VyCAn0GziX6",
        "colab_type": "code",
        "colab": {
          "autoexec": {
            "startup": false,
            "wait_interval": 0
          },
          "base_uri": "https://localhost:8080/",
          "height": 258
        },
        "outputId": "de3d45a2-5bff-4414-be4c-53832d29f7c6",
        "executionInfo": {
          "status": "ok",
          "timestamp": 1524003257922,
          "user_tz": -120,
          "elapsed": 20450,
          "user": {
            "displayName": "Paul Stobbe",
            "photoUrl": "https://lh3.googleusercontent.com/a/default-user=s128",
            "userId": "102954526529635010281"
          }
        }
      },
      "cell_type": "code",
      "source": [
        "!pip install tslearn"
      ],
      "execution_count": 3,
      "outputs": [
        {
          "output_type": "stream",
          "text": [
            "Collecting tslearn\n",
            "  Downloading https://files.pythonhosted.org/packages/c7/23/f4c7fed8d159551e4eb471da6d413f3d11c15ecc4bea1a6a5086eeb94e3f/tslearn-0.1.10.8.tar.gz (550kB)\n",
            "\u001b[K    100% |████████████████████████████████| 552kB 1.5MB/s \n",
            "\u001b[?25hRequirement already satisfied: Cython in /usr/local/lib/python2.7/dist-packages (from tslearn)\n",
            "Requirement already satisfied: numpy in /usr/local/lib/python2.7/dist-packages (from tslearn)\n",
            "Requirement already satisfied: scikit-learn in /usr/local/lib/python2.7/dist-packages (from tslearn)\n",
            "Requirement already satisfied: scipy in /usr/local/lib/python2.7/dist-packages (from tslearn)\n",
            "Building wheels for collected packages: tslearn\n",
            "  Running setup.py bdist_wheel for tslearn ... \u001b[?25l-\b \b\\\b \b|\b \b/\b \b-\b \b\\\b \b|\b \b/\b \b-\b \b\\\b \b|\b \b/\b \b-\b \bdone\n",
            "\u001b[?25h  Stored in directory: /content/.cache/pip/wheels/31/c2/49/ee76e27b4c37a73f696fdd57f3e61dac0e3680e8b6a94c8293\n",
            "Successfully built tslearn\n",
            "Installing collected packages: tslearn\n",
            "Successfully installed tslearn-0.1.10.8\n"
          ],
          "name": "stdout"
        }
      ]
    }
  ]
}